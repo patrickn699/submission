{
 "cells": [
  {
   "cell_type": "code",
   "execution_count": 309,
   "metadata": {},
   "outputs": [],
   "source": [
    "import pandas as pd\n",
    "import math\n",
    "import numpy as np\n",
    "from sklearn.preprocessing import StandardScaler\n",
    "from sklearn.model_selection import train_test_split\n",
    "from sklearn.metrics import mean_squared_error\n",
    "import matplotlib.pyplot as plt\n",
    "%matplotlib inline"
   ]
  },
  {
   "cell_type": "code",
   "execution_count": 310,
   "metadata": {},
   "outputs": [],
   "source": [
    "from keras.models import Sequential\n",
    "from keras.layers import Dense,Flatten,Dropout"
   ]
  },
  {
   "cell_type": "code",
   "execution_count": 311,
   "metadata": {},
   "outputs": [],
   "source": [
    "# dataset is downloaded from the uic machine learning repository as per link given in the statement.\n",
    "ds = pd.read_excel('estate.xlsx') #importing dataset and understanding some basic info about it."
   ]
  },
  {
   "cell_type": "code",
   "execution_count": 312,
   "metadata": {
    "scrolled": true
   },
   "outputs": [
    {
     "data": {
      "text/html": [
       "<div>\n",
       "<style scoped>\n",
       "    .dataframe tbody tr th:only-of-type {\n",
       "        vertical-align: middle;\n",
       "    }\n",
       "\n",
       "    .dataframe tbody tr th {\n",
       "        vertical-align: top;\n",
       "    }\n",
       "\n",
       "    .dataframe thead th {\n",
       "        text-align: right;\n",
       "    }\n",
       "</style>\n",
       "<table border=\"1\" class=\"dataframe\">\n",
       "  <thead>\n",
       "    <tr style=\"text-align: right;\">\n",
       "      <th></th>\n",
       "      <th>No</th>\n",
       "      <th>X1 transaction date</th>\n",
       "      <th>X2 house age</th>\n",
       "      <th>X3 distance to the nearest MRT station</th>\n",
       "      <th>X4 number of convenience stores</th>\n",
       "      <th>X5 latitude</th>\n",
       "      <th>X6 longitude</th>\n",
       "      <th>Y house price of unit area</th>\n",
       "    </tr>\n",
       "  </thead>\n",
       "  <tbody>\n",
       "    <tr>\n",
       "      <th>0</th>\n",
       "      <td>1</td>\n",
       "      <td>2012.916667</td>\n",
       "      <td>32.0</td>\n",
       "      <td>84.87882</td>\n",
       "      <td>10</td>\n",
       "      <td>24.98298</td>\n",
       "      <td>121.54024</td>\n",
       "      <td>37.9</td>\n",
       "    </tr>\n",
       "    <tr>\n",
       "      <th>1</th>\n",
       "      <td>2</td>\n",
       "      <td>2012.916667</td>\n",
       "      <td>19.5</td>\n",
       "      <td>306.59470</td>\n",
       "      <td>9</td>\n",
       "      <td>24.98034</td>\n",
       "      <td>121.53951</td>\n",
       "      <td>42.2</td>\n",
       "    </tr>\n",
       "    <tr>\n",
       "      <th>2</th>\n",
       "      <td>3</td>\n",
       "      <td>2013.583333</td>\n",
       "      <td>13.3</td>\n",
       "      <td>561.98450</td>\n",
       "      <td>5</td>\n",
       "      <td>24.98746</td>\n",
       "      <td>121.54391</td>\n",
       "      <td>47.3</td>\n",
       "    </tr>\n",
       "    <tr>\n",
       "      <th>3</th>\n",
       "      <td>4</td>\n",
       "      <td>2013.500000</td>\n",
       "      <td>13.3</td>\n",
       "      <td>561.98450</td>\n",
       "      <td>5</td>\n",
       "      <td>24.98746</td>\n",
       "      <td>121.54391</td>\n",
       "      <td>54.8</td>\n",
       "    </tr>\n",
       "    <tr>\n",
       "      <th>4</th>\n",
       "      <td>5</td>\n",
       "      <td>2012.833333</td>\n",
       "      <td>5.0</td>\n",
       "      <td>390.56840</td>\n",
       "      <td>5</td>\n",
       "      <td>24.97937</td>\n",
       "      <td>121.54245</td>\n",
       "      <td>43.1</td>\n",
       "    </tr>\n",
       "  </tbody>\n",
       "</table>\n",
       "</div>"
      ],
      "text/plain": [
       "   No  X1 transaction date  X2 house age  \\\n",
       "0   1          2012.916667          32.0   \n",
       "1   2          2012.916667          19.5   \n",
       "2   3          2013.583333          13.3   \n",
       "3   4          2013.500000          13.3   \n",
       "4   5          2012.833333           5.0   \n",
       "\n",
       "   X3 distance to the nearest MRT station  X4 number of convenience stores  \\\n",
       "0                                84.87882                               10   \n",
       "1                               306.59470                                9   \n",
       "2                               561.98450                                5   \n",
       "3                               561.98450                                5   \n",
       "4                               390.56840                                5   \n",
       "\n",
       "   X5 latitude  X6 longitude  Y house price of unit area  \n",
       "0     24.98298     121.54024                        37.9  \n",
       "1     24.98034     121.53951                        42.2  \n",
       "2     24.98746     121.54391                        47.3  \n",
       "3     24.98746     121.54391                        54.8  \n",
       "4     24.97937     121.54245                        43.1  "
      ]
     },
     "execution_count": 312,
     "metadata": {},
     "output_type": "execute_result"
    }
   ],
   "source": [
    "ds.head()"
   ]
  },
  {
   "cell_type": "code",
   "execution_count": 313,
   "metadata": {},
   "outputs": [],
   "source": [
    "ds.drop('No',axis = 1, inplace = True)"
   ]
  },
  {
   "cell_type": "code",
   "execution_count": 314,
   "metadata": {},
   "outputs": [
    {
     "data": {
      "text/html": [
       "<div>\n",
       "<style scoped>\n",
       "    .dataframe tbody tr th:only-of-type {\n",
       "        vertical-align: middle;\n",
       "    }\n",
       "\n",
       "    .dataframe tbody tr th {\n",
       "        vertical-align: top;\n",
       "    }\n",
       "\n",
       "    .dataframe thead th {\n",
       "        text-align: right;\n",
       "    }\n",
       "</style>\n",
       "<table border=\"1\" class=\"dataframe\">\n",
       "  <thead>\n",
       "    <tr style=\"text-align: right;\">\n",
       "      <th></th>\n",
       "      <th>X1 transaction date</th>\n",
       "      <th>X2 house age</th>\n",
       "      <th>X3 distance to the nearest MRT station</th>\n",
       "      <th>X4 number of convenience stores</th>\n",
       "      <th>X5 latitude</th>\n",
       "      <th>X6 longitude</th>\n",
       "      <th>Y house price of unit area</th>\n",
       "    </tr>\n",
       "  </thead>\n",
       "  <tbody>\n",
       "    <tr>\n",
       "      <th>0</th>\n",
       "      <td>2012.916667</td>\n",
       "      <td>32.0</td>\n",
       "      <td>84.87882</td>\n",
       "      <td>10</td>\n",
       "      <td>24.98298</td>\n",
       "      <td>121.54024</td>\n",
       "      <td>37.9</td>\n",
       "    </tr>\n",
       "    <tr>\n",
       "      <th>1</th>\n",
       "      <td>2012.916667</td>\n",
       "      <td>19.5</td>\n",
       "      <td>306.59470</td>\n",
       "      <td>9</td>\n",
       "      <td>24.98034</td>\n",
       "      <td>121.53951</td>\n",
       "      <td>42.2</td>\n",
       "    </tr>\n",
       "    <tr>\n",
       "      <th>2</th>\n",
       "      <td>2013.583333</td>\n",
       "      <td>13.3</td>\n",
       "      <td>561.98450</td>\n",
       "      <td>5</td>\n",
       "      <td>24.98746</td>\n",
       "      <td>121.54391</td>\n",
       "      <td>47.3</td>\n",
       "    </tr>\n",
       "    <tr>\n",
       "      <th>3</th>\n",
       "      <td>2013.500000</td>\n",
       "      <td>13.3</td>\n",
       "      <td>561.98450</td>\n",
       "      <td>5</td>\n",
       "      <td>24.98746</td>\n",
       "      <td>121.54391</td>\n",
       "      <td>54.8</td>\n",
       "    </tr>\n",
       "    <tr>\n",
       "      <th>4</th>\n",
       "      <td>2012.833333</td>\n",
       "      <td>5.0</td>\n",
       "      <td>390.56840</td>\n",
       "      <td>5</td>\n",
       "      <td>24.97937</td>\n",
       "      <td>121.54245</td>\n",
       "      <td>43.1</td>\n",
       "    </tr>\n",
       "  </tbody>\n",
       "</table>\n",
       "</div>"
      ],
      "text/plain": [
       "   X1 transaction date  X2 house age  X3 distance to the nearest MRT station  \\\n",
       "0          2012.916667          32.0                                84.87882   \n",
       "1          2012.916667          19.5                               306.59470   \n",
       "2          2013.583333          13.3                               561.98450   \n",
       "3          2013.500000          13.3                               561.98450   \n",
       "4          2012.833333           5.0                               390.56840   \n",
       "\n",
       "   X4 number of convenience stores  X5 latitude  X6 longitude  \\\n",
       "0                               10     24.98298     121.54024   \n",
       "1                                9     24.98034     121.53951   \n",
       "2                                5     24.98746     121.54391   \n",
       "3                                5     24.98746     121.54391   \n",
       "4                                5     24.97937     121.54245   \n",
       "\n",
       "   Y house price of unit area  \n",
       "0                        37.9  \n",
       "1                        42.2  \n",
       "2                        47.3  \n",
       "3                        54.8  \n",
       "4                        43.1  "
      ]
     },
     "execution_count": 314,
     "metadata": {},
     "output_type": "execute_result"
    }
   ],
   "source": [
    "ds.head()"
   ]
  },
  {
   "cell_type": "code",
   "execution_count": 315,
   "metadata": {},
   "outputs": [
    {
     "data": {
      "text/plain": [
       "X1 transaction date                       0\n",
       "X2 house age                              0\n",
       "X3 distance to the nearest MRT station    0\n",
       "X4 number of convenience stores           0\n",
       "X5 latitude                               0\n",
       "X6 longitude                              0\n",
       "Y house price of unit area                0\n",
       "dtype: int64"
      ]
     },
     "execution_count": 315,
     "metadata": {},
     "output_type": "execute_result"
    }
   ],
   "source": [
    "ds.isnull().sum()"
   ]
  },
  {
   "cell_type": "code",
   "execution_count": 316,
   "metadata": {},
   "outputs": [
    {
     "name": "stdout",
     "output_type": "stream",
     "text": [
      "<class 'pandas.core.frame.DataFrame'>\n",
      "RangeIndex: 414 entries, 0 to 413\n",
      "Data columns (total 7 columns):\n",
      " #   Column                                  Non-Null Count  Dtype  \n",
      "---  ------                                  --------------  -----  \n",
      " 0   X1 transaction date                     414 non-null    float64\n",
      " 1   X2 house age                            414 non-null    float64\n",
      " 2   X3 distance to the nearest MRT station  414 non-null    float64\n",
      " 3   X4 number of convenience stores         414 non-null    int64  \n",
      " 4   X5 latitude                             414 non-null    float64\n",
      " 5   X6 longitude                            414 non-null    float64\n",
      " 6   Y house price of unit area              414 non-null    float64\n",
      "dtypes: float64(6), int64(1)\n",
      "memory usage: 22.8 KB\n"
     ]
    }
   ],
   "source": [
    "ds.info()"
   ]
  },
  {
   "cell_type": "code",
   "execution_count": 317,
   "metadata": {},
   "outputs": [],
   "source": [
    "yr = []\n",
    "for i in ds['X1 transaction date']:\n",
    "    yr.append(int(round(i,1)))"
   ]
  },
  {
   "cell_type": "code",
   "execution_count": 318,
   "metadata": {},
   "outputs": [],
   "source": [
    "ds['X1 new'] = yr"
   ]
  },
  {
   "cell_type": "code",
   "execution_count": 319,
   "metadata": {},
   "outputs": [
    {
     "data": {
      "text/html": [
       "<div>\n",
       "<style scoped>\n",
       "    .dataframe tbody tr th:only-of-type {\n",
       "        vertical-align: middle;\n",
       "    }\n",
       "\n",
       "    .dataframe tbody tr th {\n",
       "        vertical-align: top;\n",
       "    }\n",
       "\n",
       "    .dataframe thead th {\n",
       "        text-align: right;\n",
       "    }\n",
       "</style>\n",
       "<table border=\"1\" class=\"dataframe\">\n",
       "  <thead>\n",
       "    <tr style=\"text-align: right;\">\n",
       "      <th></th>\n",
       "      <th>X1 transaction date</th>\n",
       "      <th>X2 house age</th>\n",
       "      <th>X3 distance to the nearest MRT station</th>\n",
       "      <th>X4 number of convenience stores</th>\n",
       "      <th>X5 latitude</th>\n",
       "      <th>X6 longitude</th>\n",
       "      <th>Y house price of unit area</th>\n",
       "      <th>X1 new</th>\n",
       "    </tr>\n",
       "  </thead>\n",
       "  <tbody>\n",
       "    <tr>\n",
       "      <th>0</th>\n",
       "      <td>2012.916667</td>\n",
       "      <td>32.0</td>\n",
       "      <td>84.87882</td>\n",
       "      <td>10</td>\n",
       "      <td>24.98298</td>\n",
       "      <td>121.54024</td>\n",
       "      <td>37.9</td>\n",
       "      <td>2012</td>\n",
       "    </tr>\n",
       "    <tr>\n",
       "      <th>1</th>\n",
       "      <td>2012.916667</td>\n",
       "      <td>19.5</td>\n",
       "      <td>306.59470</td>\n",
       "      <td>9</td>\n",
       "      <td>24.98034</td>\n",
       "      <td>121.53951</td>\n",
       "      <td>42.2</td>\n",
       "      <td>2012</td>\n",
       "    </tr>\n",
       "    <tr>\n",
       "      <th>2</th>\n",
       "      <td>2013.583333</td>\n",
       "      <td>13.3</td>\n",
       "      <td>561.98450</td>\n",
       "      <td>5</td>\n",
       "      <td>24.98746</td>\n",
       "      <td>121.54391</td>\n",
       "      <td>47.3</td>\n",
       "      <td>2013</td>\n",
       "    </tr>\n",
       "    <tr>\n",
       "      <th>3</th>\n",
       "      <td>2013.500000</td>\n",
       "      <td>13.3</td>\n",
       "      <td>561.98450</td>\n",
       "      <td>5</td>\n",
       "      <td>24.98746</td>\n",
       "      <td>121.54391</td>\n",
       "      <td>54.8</td>\n",
       "      <td>2013</td>\n",
       "    </tr>\n",
       "    <tr>\n",
       "      <th>4</th>\n",
       "      <td>2012.833333</td>\n",
       "      <td>5.0</td>\n",
       "      <td>390.56840</td>\n",
       "      <td>5</td>\n",
       "      <td>24.97937</td>\n",
       "      <td>121.54245</td>\n",
       "      <td>43.1</td>\n",
       "      <td>2012</td>\n",
       "    </tr>\n",
       "  </tbody>\n",
       "</table>\n",
       "</div>"
      ],
      "text/plain": [
       "   X1 transaction date  X2 house age  X3 distance to the nearest MRT station  \\\n",
       "0          2012.916667          32.0                                84.87882   \n",
       "1          2012.916667          19.5                               306.59470   \n",
       "2          2013.583333          13.3                               561.98450   \n",
       "3          2013.500000          13.3                               561.98450   \n",
       "4          2012.833333           5.0                               390.56840   \n",
       "\n",
       "   X4 number of convenience stores  X5 latitude  X6 longitude  \\\n",
       "0                               10     24.98298     121.54024   \n",
       "1                                9     24.98034     121.53951   \n",
       "2                                5     24.98746     121.54391   \n",
       "3                                5     24.98746     121.54391   \n",
       "4                                5     24.97937     121.54245   \n",
       "\n",
       "   Y house price of unit area  X1 new  \n",
       "0                        37.9    2012  \n",
       "1                        42.2    2012  \n",
       "2                        47.3    2013  \n",
       "3                        54.8    2013  \n",
       "4                        43.1    2012  "
      ]
     },
     "execution_count": 319,
     "metadata": {},
     "output_type": "execute_result"
    }
   ],
   "source": [
    "ds.head()"
   ]
  },
  {
   "cell_type": "code",
   "execution_count": 320,
   "metadata": {},
   "outputs": [],
   "source": [
    "ds.drop('X1 transaction date', axis = 1, inplace = True)"
   ]
  },
  {
   "cell_type": "code",
   "execution_count": 321,
   "metadata": {},
   "outputs": [
    {
     "data": {
      "text/html": [
       "<div>\n",
       "<style scoped>\n",
       "    .dataframe tbody tr th:only-of-type {\n",
       "        vertical-align: middle;\n",
       "    }\n",
       "\n",
       "    .dataframe tbody tr th {\n",
       "        vertical-align: top;\n",
       "    }\n",
       "\n",
       "    .dataframe thead th {\n",
       "        text-align: right;\n",
       "    }\n",
       "</style>\n",
       "<table border=\"1\" class=\"dataframe\">\n",
       "  <thead>\n",
       "    <tr style=\"text-align: right;\">\n",
       "      <th></th>\n",
       "      <th>X2 house age</th>\n",
       "      <th>X3 distance to the nearest MRT station</th>\n",
       "      <th>X4 number of convenience stores</th>\n",
       "      <th>X5 latitude</th>\n",
       "      <th>X6 longitude</th>\n",
       "      <th>Y house price of unit area</th>\n",
       "      <th>X1 new</th>\n",
       "    </tr>\n",
       "  </thead>\n",
       "  <tbody>\n",
       "    <tr>\n",
       "      <th>0</th>\n",
       "      <td>32.0</td>\n",
       "      <td>84.87882</td>\n",
       "      <td>10</td>\n",
       "      <td>24.98298</td>\n",
       "      <td>121.54024</td>\n",
       "      <td>37.9</td>\n",
       "      <td>2012</td>\n",
       "    </tr>\n",
       "    <tr>\n",
       "      <th>1</th>\n",
       "      <td>19.5</td>\n",
       "      <td>306.59470</td>\n",
       "      <td>9</td>\n",
       "      <td>24.98034</td>\n",
       "      <td>121.53951</td>\n",
       "      <td>42.2</td>\n",
       "      <td>2012</td>\n",
       "    </tr>\n",
       "    <tr>\n",
       "      <th>2</th>\n",
       "      <td>13.3</td>\n",
       "      <td>561.98450</td>\n",
       "      <td>5</td>\n",
       "      <td>24.98746</td>\n",
       "      <td>121.54391</td>\n",
       "      <td>47.3</td>\n",
       "      <td>2013</td>\n",
       "    </tr>\n",
       "    <tr>\n",
       "      <th>3</th>\n",
       "      <td>13.3</td>\n",
       "      <td>561.98450</td>\n",
       "      <td>5</td>\n",
       "      <td>24.98746</td>\n",
       "      <td>121.54391</td>\n",
       "      <td>54.8</td>\n",
       "      <td>2013</td>\n",
       "    </tr>\n",
       "    <tr>\n",
       "      <th>4</th>\n",
       "      <td>5.0</td>\n",
       "      <td>390.56840</td>\n",
       "      <td>5</td>\n",
       "      <td>24.97937</td>\n",
       "      <td>121.54245</td>\n",
       "      <td>43.1</td>\n",
       "      <td>2012</td>\n",
       "    </tr>\n",
       "  </tbody>\n",
       "</table>\n",
       "</div>"
      ],
      "text/plain": [
       "   X2 house age  X3 distance to the nearest MRT station  \\\n",
       "0          32.0                                84.87882   \n",
       "1          19.5                               306.59470   \n",
       "2          13.3                               561.98450   \n",
       "3          13.3                               561.98450   \n",
       "4           5.0                               390.56840   \n",
       "\n",
       "   X4 number of convenience stores  X5 latitude  X6 longitude  \\\n",
       "0                               10     24.98298     121.54024   \n",
       "1                                9     24.98034     121.53951   \n",
       "2                                5     24.98746     121.54391   \n",
       "3                                5     24.98746     121.54391   \n",
       "4                                5     24.97937     121.54245   \n",
       "\n",
       "   Y house price of unit area  X1 new  \n",
       "0                        37.9    2012  \n",
       "1                        42.2    2012  \n",
       "2                        47.3    2013  \n",
       "3                        54.8    2013  \n",
       "4                        43.1    2012  "
      ]
     },
     "execution_count": 321,
     "metadata": {},
     "output_type": "execute_result"
    }
   ],
   "source": [
    "ds.head()"
   ]
  },
  {
   "cell_type": "code",
   "execution_count": null,
   "metadata": {},
   "outputs": [],
   "source": [
    "#visualizing the features distribution."
   ]
  },
  {
   "cell_type": "code",
   "execution_count": 322,
   "metadata": {},
   "outputs": [
    {
     "data": {
      "text/plain": [
       "(array([58., 43., 49., 97., 44., 10., 27., 50., 25., 11.]),\n",
       " array([ 0.  ,  4.38,  8.76, 13.14, 17.52, 21.9 , 26.28, 30.66, 35.04,\n",
       "        39.42, 43.8 ]),\n",
       " <a list of 10 Patch objects>)"
      ]
     },
     "execution_count": 322,
     "metadata": {},
     "output_type": "execute_result"
    },
    {
     "data": {
      "image/png": "[encoded data removed]",
      "text/plain": [
       "<Figure size 432x288 with 1 Axes>"
      ]
     },
     "metadata": {
      "needs_background": "light"
     },
     "output_type": "display_data"
    }
   ],
   "source": [
    "plt.hist(ds['X2 house age']) "
   ]
  },
  {
   "cell_type": "code",
   "execution_count": 323,
   "metadata": {},
   "outputs": [
    {
     "data": {
      "text/plain": [
       "(array([251.,  42.,  47.,  30.,   7.,   3.,  27.,   2.,   2.,   3.]),\n",
       " array([  23.38284 ,  669.846656, 1316.310472, 1962.774288, 2609.238104,\n",
       "        3255.70192 , 3902.165736, 4548.629552, 5195.093368, 5841.557184,\n",
       "        6488.021   ]),\n",
       " <a list of 10 Patch objects>)"
      ]
     },
     "execution_count": 323,
     "metadata": {},
     "output_type": "execute_result"
    },
    {
     "data": {
      "image/png": "[encoded data removed]",
      "text/plain": [
       "<Figure size 432x288 with 1 Axes>"
      ]
     },
     "metadata": {
      "needs_background": "light"
     },
     "output_type": "display_data"
    }
   ],
   "source": [
    "plt.hist(ds['X3 distance to the nearest MRT station'])"
   ]
  },
  {
   "cell_type": "code",
   "execution_count": 324,
   "metadata": {},
   "outputs": [
    {
     "data": {
      "text/plain": [
       "(array([  6.,  20.,  48.,  63.,  91., 125.,  53.,   6.,   1.,   1.]),\n",
       " array([24.93207 , 24.940322, 24.948574, 24.956826, 24.965078, 24.97333 ,\n",
       "        24.981582, 24.989834, 24.998086, 25.006338, 25.01459 ]),\n",
       " <a list of 10 Patch objects>)"
      ]
     },
     "execution_count": 324,
     "metadata": {},
     "output_type": "execute_result"
    },
    {
     "data": {
      "image/png": "[encoded data removed]",
      "text/plain": [
       "<Figure size 432x288 with 1 Axes>"
      ]
     },
     "metadata": {
      "needs_background": "light"
     },
     "output_type": "display_data"
    }
   ],
   "source": [
    "plt.hist(ds['X5 latitude'])"
   ]
  },
  {
   "cell_type": "code",
   "execution_count": 325,
   "metadata": {},
   "outputs": [
    {
     "data": {
      "text/plain": [
       "(array([  3.,   2.,  10.,  22.,  57.,  10., 101., 175.,  29.,   5.]),\n",
       " array([121.47353 , 121.482804, 121.492078, 121.501352, 121.510626,\n",
       "        121.5199  , 121.529174, 121.538448, 121.547722, 121.556996,\n",
       "        121.56627 ]),\n",
       " <a list of 10 Patch objects>)"
      ]
     },
     "execution_count": 325,
     "metadata": {},
     "output_type": "execute_result"
    },
    {
     "data": {
      "image/png": "[encoded data removed]",
      "text/plain": [
       "<Figure size 432x288 with 1 Axes>"
      ]
     },
     "metadata": {
      "needs_background": "light"
     },
     "output_type": "display_data"
    }
   ],
   "source": [
    "plt.hist(ds['X6 longitude'])"
   ]
  },
  {
   "cell_type": "code",
   "execution_count": 326,
   "metadata": {},
   "outputs": [
    {
     "data": {
      "text/plain": [
       "(array([67., 46., 24., 46., 31., 67., 37., 31., 30., 35.]),\n",
       " array([ 0.,  1.,  2.,  3.,  4.,  5.,  6.,  7.,  8.,  9., 10.]),\n",
       " <a list of 10 Patch objects>)"
      ]
     },
     "execution_count": 326,
     "metadata": {},
     "output_type": "execute_result"
    },
    {
     "data": {
      "image/png": "[encoded data removed]",
      "text/plain": [
       "<Figure size 432x288 with 1 Axes>"
      ]
     },
     "metadata": {
      "needs_background": "light"
     },
     "output_type": "display_data"
    }
   ],
   "source": [
    "plt.hist(ds['X4 number of convenience stores'])"
   ]
  },
  {
   "cell_type": "code",
   "execution_count": 335,
   "metadata": {},
   "outputs": [
    {
     "data": {
      "text/html": [
       "<div>\n",
       "<style scoped>\n",
       "    .dataframe tbody tr th:only-of-type {\n",
       "        vertical-align: middle;\n",
       "    }\n",
       "\n",
       "    .dataframe tbody tr th {\n",
       "        vertical-align: top;\n",
       "    }\n",
       "\n",
       "    .dataframe thead th {\n",
       "        text-align: right;\n",
       "    }\n",
       "</style>\n",
       "<table border=\"1\" class=\"dataframe\">\n",
       "  <thead>\n",
       "    <tr style=\"text-align: right;\">\n",
       "      <th></th>\n",
       "      <th>X2 house age</th>\n",
       "      <th>X3 distance to the nearest MRT station</th>\n",
       "      <th>X4 number of convenience stores</th>\n",
       "      <th>X5 latitude</th>\n",
       "      <th>X6 longitude</th>\n",
       "      <th>Y house price of unit area</th>\n",
       "      <th>X1 new</th>\n",
       "    </tr>\n",
       "  </thead>\n",
       "  <tbody>\n",
       "    <tr>\n",
       "      <th>0</th>\n",
       "      <td>32.0</td>\n",
       "      <td>84.87882</td>\n",
       "      <td>10</td>\n",
       "      <td>24.98298</td>\n",
       "      <td>121.54024</td>\n",
       "      <td>37.9</td>\n",
       "      <td>2012</td>\n",
       "    </tr>\n",
       "    <tr>\n",
       "      <th>1</th>\n",
       "      <td>19.5</td>\n",
       "      <td>306.59470</td>\n",
       "      <td>9</td>\n",
       "      <td>24.98034</td>\n",
       "      <td>121.53951</td>\n",
       "      <td>42.2</td>\n",
       "      <td>2012</td>\n",
       "    </tr>\n",
       "    <tr>\n",
       "      <th>2</th>\n",
       "      <td>13.3</td>\n",
       "      <td>561.98450</td>\n",
       "      <td>5</td>\n",
       "      <td>24.98746</td>\n",
       "      <td>121.54391</td>\n",
       "      <td>47.3</td>\n",
       "      <td>2013</td>\n",
       "    </tr>\n",
       "    <tr>\n",
       "      <th>3</th>\n",
       "      <td>13.3</td>\n",
       "      <td>561.98450</td>\n",
       "      <td>5</td>\n",
       "      <td>24.98746</td>\n",
       "      <td>121.54391</td>\n",
       "      <td>54.8</td>\n",
       "      <td>2013</td>\n",
       "    </tr>\n",
       "    <tr>\n",
       "      <th>4</th>\n",
       "      <td>5.0</td>\n",
       "      <td>390.56840</td>\n",
       "      <td>5</td>\n",
       "      <td>24.97937</td>\n",
       "      <td>121.54245</td>\n",
       "      <td>43.1</td>\n",
       "      <td>2012</td>\n",
       "    </tr>\n",
       "  </tbody>\n",
       "</table>\n",
       "</div>"
      ],
      "text/plain": [
       "   X2 house age  X3 distance to the nearest MRT station  \\\n",
       "0          32.0                                84.87882   \n",
       "1          19.5                               306.59470   \n",
       "2          13.3                               561.98450   \n",
       "3          13.3                               561.98450   \n",
       "4           5.0                               390.56840   \n",
       "\n",
       "   X4 number of convenience stores  X5 latitude  X6 longitude  \\\n",
       "0                               10     24.98298     121.54024   \n",
       "1                                9     24.98034     121.53951   \n",
       "2                                5     24.98746     121.54391   \n",
       "3                                5     24.98746     121.54391   \n",
       "4                                5     24.97937     121.54245   \n",
       "\n",
       "   Y house price of unit area  X1 new  \n",
       "0                        37.9    2012  \n",
       "1                        42.2    2012  \n",
       "2                        47.3    2013  \n",
       "3                        54.8    2013  \n",
       "4                        43.1    2012  "
      ]
     },
     "execution_count": 335,
     "metadata": {},
     "output_type": "execute_result"
    }
   ],
   "source": [
    "ds.head()"
   ]
  },
  {
   "cell_type": "code",
   "execution_count": null,
   "metadata": {},
   "outputs": [],
   "source": [
    "#seperating dependent and independent features and splitting the data in training and testing part."
   ]
  },
  {
   "cell_type": "code",
   "execution_count": 336,
   "metadata": {},
   "outputs": [],
   "source": [
    "X = ds.drop('Y house price of unit area', axis = 1)\n",
    "Y = ds['Y house price of unit area']"
   ]
  },
  {
   "cell_type": "code",
   "execution_count": 344,
   "metadata": {},
   "outputs": [],
   "source": [
    "se  = StandardScaler()\n",
    "X = se.fit_transform(X)"
   ]
  },
  {
   "cell_type": "code",
   "execution_count": 346,
   "metadata": {},
   "outputs": [],
   "source": [
    "x_train, x_test, y_train, y_test = train_test_split(X, Y, test_size = 0.2)"
   ]
  },
  {
   "cell_type": "code",
   "execution_count": 339,
   "metadata": {},
   "outputs": [
    {
     "data": {
      "text/plain": [
       "46.7"
      ]
     },
     "execution_count": 339,
     "metadata": {},
     "output_type": "execute_result"
    }
   ],
   "source": [
    "#y_train[7]"
   ]
  },
  {
   "cell_type": "code",
   "execution_count": null,
   "metadata": {},
   "outputs": [],
   "source": [
    "#building the network and training."
   ]
  },
  {
   "cell_type": "code",
   "execution_count": 381,
   "metadata": {},
   "outputs": [],
   "source": [
    "def mod():\n",
    "    \n",
    "    model = Sequential()\n",
    "    \n",
    "    model.add(Dense(15, input_shape = [6], activation = 'relu'))\n",
    "    model.add(Dense(10, activation = 'relu'))\n",
    "    model.add(Dense(10, activation = 'relu'))\n",
    "    model.add(Dense(10, activation = 'relu'))\n",
    "    #model.add(Dropout(0.2))\n",
    "    model.add(Dense(1))\n",
    "    model.compile(optimizer = 'adam', loss = 'mean_squared_error', metrics = ['mse'])\n",
    "    return model"
   ]
  },
  {
   "cell_type": "code",
   "execution_count": 382,
   "metadata": {},
   "outputs": [],
   "source": [
    "mymod = mod()"
   ]
  },
  {
   "cell_type": "code",
   "execution_count": 383,
   "metadata": {},
   "outputs": [
    {
     "name": "stdout",
     "output_type": "stream",
     "text": [
      "Model: \"sequential_18\"\n",
      "_________________________________________________________________\n",
      "Layer (type)                 Output Shape              Param #   \n",
      "=================================================================\n",
      "dense_76 (Dense)             (None, 15)                105       \n",
      "_________________________________________________________________\n",
      "dense_77 (Dense)             (None, 10)                160       \n",
      "_________________________________________________________________\n",
      "dense_78 (Dense)             (None, 10)                110       \n",
      "_________________________________________________________________\n",
      "dense_79 (Dense)             (None, 10)                110       \n",
      "_________________________________________________________________\n",
      "dense_80 (Dense)             (None, 1)                 11        \n",
      "=================================================================\n",
      "Total params: 496\n",
      "Trainable params: 496\n",
      "Non-trainable params: 0\n",
      "_________________________________________________________________\n",
      "None\n"
     ]
    }
   ],
   "source": [
    "print(mymod.summary())"
   ]
  },
  {
   "cell_type": "code",
   "execution_count": 384,
   "metadata": {},
   "outputs": [
    {
     "name": "stdout",
     "output_type": "stream",
     "text": [
      "Train on 331 samples, validate on 83 samples\n",
      "Epoch 1/150\n",
      "331/331 [==============================] - 0s 1ms/step - loss: 1629.6486 - mse: 1629.6488 - val_loss: 1619.1107 - val_mse: 1619.1107\n",
      "Epoch 2/150\n",
      "331/331 [==============================] - 0s 259us/step - loss: 1625.6266 - mse: 1625.6265 - val_loss: 1614.3951 - val_mse: 1614.3951\n",
      "Epoch 3/150\n",
      "331/331 [==============================] - 0s 359us/step - loss: 1618.8919 - mse: 1618.8920 - val_loss: 1604.8645 - val_mse: 1604.8645\n",
      "Epoch 4/150\n",
      "331/331 [==============================] - 0s 365us/step - loss: 1607.0273 - mse: 1607.0273 - val_loss: 1589.8954 - val_mse: 1589.8954\n",
      "Epoch 5/150\n",
      "331/331 [==============================] - 0s 253us/step - loss: 1588.5447 - mse: 1588.5448 - val_loss: 1566.1005 - val_mse: 1566.1006\n",
      "Epoch 6/150\n",
      "331/331 [==============================] - 0s 292us/step - loss: 1561.7726 - mse: 1561.7725 - val_loss: 1531.3804 - val_mse: 1531.3804\n",
      "Epoch 7/150\n",
      "331/331 [==============================] - 0s 277us/step - loss: 1523.4329 - mse: 1523.4330 - val_loss: 1483.8143 - val_mse: 1483.8143\n",
      "Epoch 8/150\n",
      "331/331 [==============================] - 0s 249us/step - loss: 1471.3209 - mse: 1471.3210 - val_loss: 1418.5266 - val_mse: 1418.5266\n",
      "Epoch 9/150\n",
      "331/331 [==============================] - 0s 289us/step - loss: 1398.3337 - mse: 1398.3336 - val_loss: 1331.7651 - val_mse: 1331.7650\n",
      "Epoch 10/150\n",
      "331/331 [==============================] - 0s 280us/step - loss: 1302.6830 - mse: 1302.6830 - val_loss: 1218.6412 - val_mse: 1218.6412\n",
      "Epoch 11/150\n",
      "331/331 [==============================] - 0s 268us/step - loss: 1181.4295 - mse: 1181.4296 - val_loss: 1074.9398 - val_mse: 1074.9398\n",
      "Epoch 12/150\n",
      "331/331 [==============================] - 0s 244us/step - loss: 1027.1557 - mse: 1027.1556 - val_loss: 902.8734 - val_mse: 902.8734\n",
      "Epoch 13/150\n",
      "331/331 [==============================] - 0s 238us/step - loss: 846.3320 - mse: 846.3320 - val_loss: 705.9160 - val_mse: 705.9160\n",
      "Epoch 14/150\n",
      "331/331 [==============================] - 0s 232us/step - loss: 646.1718 - mse: 646.1719 - val_loss: 504.5582 - val_mse: 504.5582\n",
      "Epoch 15/150\n",
      "331/331 [==============================] - 0s 238us/step - loss: 449.1849 - mse: 449.1848 - val_loss: 332.8038 - val_mse: 332.8038\n",
      "Epoch 16/150\n",
      "331/331 [==============================] - 0s 235us/step - loss: 307.0455 - mse: 307.0455 - val_loss: 208.9412 - val_mse: 208.9412\n",
      "Epoch 17/150\n",
      "331/331 [==============================] - 0s 238us/step - loss: 215.5916 - mse: 215.5916 - val_loss: 147.4442 - val_mse: 147.4442\n",
      "Epoch 18/150\n",
      "331/331 [==============================] - 0s 247us/step - loss: 171.2931 - mse: 171.2931 - val_loss: 116.4250 - val_mse: 116.4250\n",
      "Epoch 19/150\n",
      "331/331 [==============================] - 0s 238us/step - loss: 150.2874 - mse: 150.2874 - val_loss: 98.1208 - val_mse: 98.1208\n",
      "Epoch 20/150\n",
      "331/331 [==============================] - 0s 238us/step - loss: 135.2074 - mse: 135.2074 - val_loss: 85.6839 - val_mse: 85.6839\n",
      "Epoch 21/150\n",
      "331/331 [==============================] - 0s 235us/step - loss: 124.2072 - mse: 124.2072 - val_loss: 78.0031 - val_mse: 78.0031\n",
      "Epoch 22/150\n",
      "331/331 [==============================] - 0s 238us/step - loss: 115.9109 - mse: 115.9109 - val_loss: 71.4739 - val_mse: 71.4739\n",
      "Epoch 23/150\n",
      "331/331 [==============================] - 0s 235us/step - loss: 108.7841 - mse: 108.7841 - val_loss: 67.9508 - val_mse: 67.9508\n",
      "Epoch 24/150\n",
      "331/331 [==============================] - 0s 232us/step - loss: 103.2335 - mse: 103.2335 - val_loss: 65.1077 - val_mse: 65.1077\n",
      "Epoch 25/150\n",
      "331/331 [==============================] - 0s 238us/step - loss: 98.5054 - mse: 98.5054 - val_loss: 61.9985 - val_mse: 61.9985\n",
      "Epoch 26/150\n",
      "331/331 [==============================] - 0s 226us/step - loss: 94.3868 - mse: 94.3868 - val_loss: 59.4840 - val_mse: 59.4840\n",
      "Epoch 27/150\n",
      "331/331 [==============================] - 0s 220us/step - loss: 91.2130 - mse: 91.2130 - val_loss: 56.6092 - val_mse: 56.6092\n",
      "Epoch 28/150\n",
      "331/331 [==============================] - 0s 238us/step - loss: 87.7430 - mse: 87.7430 - val_loss: 54.9526 - val_mse: 54.9526\n",
      "Epoch 29/150\n",
      "331/331 [==============================] - 0s 238us/step - loss: 85.3276 - mse: 85.3276 - val_loss: 53.4658 - val_mse: 53.4658\n",
      "Epoch 30/150\n",
      "331/331 [==============================] - 0s 256us/step - loss: 82.8658 - mse: 82.8658 - val_loss: 51.9983 - val_mse: 51.9983\n",
      "Epoch 31/150\n",
      "331/331 [==============================] - 0s 259us/step - loss: 81.0574 - mse: 81.0574 - val_loss: 50.4519 - val_mse: 50.4519\n",
      "Epoch 32/150\n",
      "331/331 [==============================] - 0s 208us/step - loss: 79.1837 - mse: 79.1837 - val_loss: 49.5463 - val_mse: 49.5463\n",
      "Epoch 33/150\n",
      "331/331 [==============================] - 0s 235us/step - loss: 77.7255 - mse: 77.7255 - val_loss: 48.5020 - val_mse: 48.5020\n",
      "Epoch 34/150\n",
      "331/331 [==============================] - 0s 244us/step - loss: 76.2825 - mse: 76.2825 - val_loss: 47.6877 - val_mse: 47.6877\n",
      "Epoch 35/150\n",
      "331/331 [==============================] - 0s 238us/step - loss: 75.0252 - mse: 75.0252 - val_loss: 46.7585 - val_mse: 46.7585\n",
      "Epoch 36/150\n",
      "331/331 [==============================] - 0s 250us/step - loss: 73.9956 - mse: 73.9956 - val_loss: 45.9831 - val_mse: 45.9831\n",
      "Epoch 37/150\n",
      "331/331 [==============================] - 0s 241us/step - loss: 73.2203 - mse: 73.2203 - val_loss: 45.2264 - val_mse: 45.2264\n",
      "Epoch 38/150\n",
      "331/331 [==============================] - 0s 214us/step - loss: 72.1328 - mse: 72.1329 - val_loss: 44.8607 - val_mse: 44.8607\n",
      "Epoch 39/150\n",
      "331/331 [==============================] - 0s 202us/step - loss: 71.3249 - mse: 71.3249 - val_loss: 44.3490 - val_mse: 44.3490\n",
      "Epoch 40/150\n",
      "331/331 [==============================] - 0s 196us/step - loss: 70.6850 - mse: 70.6850 - val_loss: 43.9079 - val_mse: 43.9079\n",
      "Epoch 41/150\n",
      "331/331 [==============================] - 0s 196us/step - loss: 70.1054 - mse: 70.1054 - val_loss: 43.3415 - val_mse: 43.3415\n",
      "Epoch 42/150\n",
      "331/331 [==============================] - 0s 193us/step - loss: 69.9836 - mse: 69.9836 - val_loss: 42.4844 - val_mse: 42.4844\n",
      "Epoch 43/150\n",
      "331/331 [==============================] - 0s 202us/step - loss: 69.1769 - mse: 69.1769 - val_loss: 42.6633 - val_mse: 42.6633\n",
      "Epoch 44/150\n",
      "331/331 [==============================] - 0s 202us/step - loss: 68.4606 - mse: 68.4606 - val_loss: 42.1521 - val_mse: 42.1521\n",
      "Epoch 45/150\n",
      "331/331 [==============================] - 0s 217us/step - loss: 68.0843 - mse: 68.0843 - val_loss: 41.3152 - val_mse: 41.3152\n",
      "Epoch 46/150\n",
      "331/331 [==============================] - 0s 208us/step - loss: 67.6342 - mse: 67.6342 - val_loss: 40.9575 - val_mse: 40.9575\n",
      "Epoch 47/150\n",
      "331/331 [==============================] - 0s 196us/step - loss: 67.3134 - mse: 67.3133 - val_loss: 41.0679 - val_mse: 41.0679\n",
      "Epoch 48/150\n",
      "331/331 [==============================] - 0s 199us/step - loss: 66.9923 - mse: 66.9923 - val_loss: 40.8405 - val_mse: 40.8405\n",
      "Epoch 49/150\n",
      "331/331 [==============================] - 0s 196us/step - loss: 66.7677 - mse: 66.7677 - val_loss: 40.5614 - val_mse: 40.5614\n",
      "Epoch 50/150\n",
      "331/331 [==============================] - 0s 196us/step - loss: 66.3267 - mse: 66.3267 - val_loss: 40.1975 - val_mse: 40.1975\n",
      "Epoch 51/150\n",
      "331/331 [==============================] - 0s 214us/step - loss: 66.0872 - mse: 66.0872 - val_loss: 39.7909 - val_mse: 39.7909\n",
      "Epoch 52/150\n",
      "331/331 [==============================] - 0s 214us/step - loss: 65.9095 - mse: 65.9095 - val_loss: 39.6749 - val_mse: 39.6749\n",
      "Epoch 53/150\n",
      "331/331 [==============================] - 0s 199us/step - loss: 65.5979 - mse: 65.5979 - val_loss: 39.6278 - val_mse: 39.6278\n",
      "Epoch 54/150\n",
      "331/331 [==============================] - 0s 193us/step - loss: 65.6243 - mse: 65.6243 - val_loss: 39.4589 - val_mse: 39.4589\n",
      "Epoch 55/150\n",
      "331/331 [==============================] - 0s 196us/step - loss: 65.3574 - mse: 65.3574 - val_loss: 39.5419 - val_mse: 39.5419\n",
      "Epoch 56/150\n",
      "331/331 [==============================] - 0s 196us/step - loss: 65.2032 - mse: 65.2032 - val_loss: 39.7251 - val_mse: 39.7251\n",
      "Epoch 57/150\n",
      "331/331 [==============================] - 0s 220us/step - loss: 64.5762 - mse: 64.5762 - val_loss: 39.7769 - val_mse: 39.7769\n",
      "Epoch 58/150\n"
     ]
    },
    {
     "name": "stdout",
     "output_type": "stream",
     "text": [
      "331/331 [==============================] - 0s 205us/step - loss: 64.4784 - mse: 64.4784 - val_loss: 39.7439 - val_mse: 39.7439\n",
      "Epoch 59/150\n",
      "331/331 [==============================] - 0s 196us/step - loss: 64.5123 - mse: 64.5123 - val_loss: 39.6083 - val_mse: 39.6083\n",
      "Epoch 60/150\n",
      "331/331 [==============================] - 0s 193us/step - loss: 64.1965 - mse: 64.1965 - val_loss: 39.1721 - val_mse: 39.1721\n",
      "Epoch 61/150\n",
      "331/331 [==============================] - 0s 196us/step - loss: 63.9487 - mse: 63.9487 - val_loss: 38.6900 - val_mse: 38.6900\n",
      "Epoch 62/150\n",
      "331/331 [==============================] - 0s 202us/step - loss: 63.8204 - mse: 63.8204 - val_loss: 38.7113 - val_mse: 38.7113\n",
      "Epoch 63/150\n",
      "331/331 [==============================] - 0s 196us/step - loss: 63.7231 - mse: 63.7231 - val_loss: 38.7409 - val_mse: 38.7409\n",
      "Epoch 64/150\n",
      "331/331 [==============================] - 0s 196us/step - loss: 63.5989 - mse: 63.5989 - val_loss: 38.5092 - val_mse: 38.5092\n",
      "Epoch 65/150\n",
      "331/331 [==============================] - 0s 193us/step - loss: 63.6379 - mse: 63.6379 - val_loss: 38.2161 - val_mse: 38.2161\n",
      "Epoch 66/150\n",
      "331/331 [==============================] - 0s 202us/step - loss: 63.4786 - mse: 63.4786 - val_loss: 37.9420 - val_mse: 37.9420\n",
      "Epoch 67/150\n",
      "331/331 [==============================] - 0s 202us/step - loss: 63.2390 - mse: 63.2390 - val_loss: 38.0537 - val_mse: 38.0537\n",
      "Epoch 68/150\n",
      "331/331 [==============================] - 0s 202us/step - loss: 63.4269 - mse: 63.4269 - val_loss: 38.2136 - val_mse: 38.2136\n",
      "Epoch 69/150\n",
      "331/331 [==============================] - 0s 202us/step - loss: 63.2626 - mse: 63.2626 - val_loss: 37.5211 - val_mse: 37.5211\n",
      "Epoch 70/150\n",
      "331/331 [==============================] - 0s 193us/step - loss: 62.9366 - mse: 62.9366 - val_loss: 37.8160 - val_mse: 37.8160\n",
      "Epoch 71/150\n",
      "331/331 [==============================] - 0s 193us/step - loss: 62.8343 - mse: 62.8343 - val_loss: 37.7166 - val_mse: 37.7166\n",
      "Epoch 72/150\n",
      "331/331 [==============================] - 0s 214us/step - loss: 63.0008 - mse: 63.0008 - val_loss: 37.9358 - val_mse: 37.9358\n",
      "Epoch 73/150\n",
      "331/331 [==============================] - 0s 202us/step - loss: 62.8191 - mse: 62.8191 - val_loss: 37.8972 - val_mse: 37.8972\n",
      "Epoch 74/150\n",
      "331/331 [==============================] - 0s 202us/step - loss: 62.5977 - mse: 62.5977 - val_loss: 37.7103 - val_mse: 37.7103\n",
      "Epoch 75/150\n",
      "331/331 [==============================] - 0s 202us/step - loss: 62.4888 - mse: 62.4888 - val_loss: 37.6159 - val_mse: 37.6159\n",
      "Epoch 76/150\n",
      "331/331 [==============================] - 0s 199us/step - loss: 62.4360 - mse: 62.4360 - val_loss: 37.9362 - val_mse: 37.9362\n",
      "Epoch 77/150\n",
      "331/331 [==============================] - 0s 202us/step - loss: 62.2851 - mse: 62.2851 - val_loss: 37.5201 - val_mse: 37.5201\n",
      "Epoch 78/150\n",
      "331/331 [==============================] - 0s 196us/step - loss: 62.3393 - mse: 62.3393 - val_loss: 37.5640 - val_mse: 37.5640\n",
      "Epoch 79/150\n",
      "331/331 [==============================] - 0s 193us/step - loss: 62.2322 - mse: 62.2322 - val_loss: 37.4409 - val_mse: 37.4409\n",
      "Epoch 80/150\n",
      "331/331 [==============================] - 0s 196us/step - loss: 62.1227 - mse: 62.1227 - val_loss: 37.7174 - val_mse: 37.7174\n",
      "Epoch 81/150\n",
      "331/331 [==============================] - 0s 199us/step - loss: 61.9660 - mse: 61.9660 - val_loss: 37.9469 - val_mse: 37.9469\n",
      "Epoch 82/150\n",
      "331/331 [==============================] - 0s 205us/step - loss: 62.0747 - mse: 62.0747 - val_loss: 37.5490 - val_mse: 37.5490\n",
      "Epoch 83/150\n",
      "331/331 [==============================] - 0s 202us/step - loss: 62.0038 - mse: 62.0038 - val_loss: 37.4950 - val_mse: 37.4950\n",
      "Epoch 84/150\n",
      "331/331 [==============================] - 0s 202us/step - loss: 62.0158 - mse: 62.0158 - val_loss: 37.5775 - val_mse: 37.5775\n",
      "Epoch 85/150\n",
      "331/331 [==============================] - 0s 202us/step - loss: 62.2255 - mse: 62.2255 - val_loss: 37.9546 - val_mse: 37.9546\n",
      "Epoch 86/150\n",
      "331/331 [==============================] - 0s 202us/step - loss: 61.6313 - mse: 61.6313 - val_loss: 37.7194 - val_mse: 37.7194\n",
      "Epoch 87/150\n",
      "331/331 [==============================] - 0s 193us/step - loss: 62.4638 - mse: 62.4638 - val_loss: 38.5530 - val_mse: 38.5530\n",
      "Epoch 88/150\n",
      "331/331 [==============================] - 0s 199us/step - loss: 61.9548 - mse: 61.9548 - val_loss: 38.3733 - val_mse: 38.3733\n",
      "Epoch 89/150\n",
      "331/331 [==============================] - 0s 196us/step - loss: 61.6254 - mse: 61.6254 - val_loss: 38.7398 - val_mse: 38.7398\n",
      "Epoch 90/150\n",
      "331/331 [==============================] - 0s 196us/step - loss: 61.4842 - mse: 61.4842 - val_loss: 38.1886 - val_mse: 38.1886\n",
      "Epoch 91/150\n",
      "331/331 [==============================] - 0s 196us/step - loss: 61.2805 - mse: 61.2805 - val_loss: 37.8700 - val_mse: 37.8700\n",
      "Epoch 92/150\n",
      "331/331 [==============================] - 0s 205us/step - loss: 61.2809 - mse: 61.2809 - val_loss: 37.5832 - val_mse: 37.5832\n",
      "Epoch 93/150\n",
      "331/331 [==============================] - 0s 202us/step - loss: 61.2699 - mse: 61.2700 - val_loss: 37.1731 - val_mse: 37.1731\n",
      "Epoch 94/150\n",
      "331/331 [==============================] - 0s 205us/step - loss: 61.2088 - mse: 61.2088 - val_loss: 37.4710 - val_mse: 37.4710\n",
      "Epoch 95/150\n",
      "331/331 [==============================] - 0s 205us/step - loss: 60.9956 - mse: 60.9956 - val_loss: 36.9973 - val_mse: 36.9973\n",
      "Epoch 96/150\n",
      "331/331 [==============================] - 0s 208us/step - loss: 61.1284 - mse: 61.1284 - val_loss: 37.0058 - val_mse: 37.0058\n",
      "Epoch 97/150\n",
      "331/331 [==============================] - 0s 205us/step - loss: 61.0368 - mse: 61.0368 - val_loss: 37.1527 - val_mse: 37.1527\n",
      "Epoch 98/150\n",
      "331/331 [==============================] - 0s 220us/step - loss: 60.9484 - mse: 60.9484 - val_loss: 37.5277 - val_mse: 37.5277\n",
      "Epoch 99/150\n",
      "331/331 [==============================] - 0s 196us/step - loss: 60.9844 - mse: 60.9844 - val_loss: 37.3425 - val_mse: 37.3424\n",
      "Epoch 100/150\n",
      "331/331 [==============================] - 0s 193us/step - loss: 61.0833 - mse: 61.0833 - val_loss: 38.2155 - val_mse: 38.2155\n",
      "Epoch 101/150\n",
      "331/331 [==============================] - 0s 220us/step - loss: 60.9791 - mse: 60.9791 - val_loss: 37.4734 - val_mse: 37.4734\n",
      "Epoch 102/150\n",
      "331/331 [==============================] - 0s 217us/step - loss: 60.7553 - mse: 60.7553 - val_loss: 37.5557 - val_mse: 37.5557\n",
      "Epoch 103/150\n",
      "331/331 [==============================] - 0s 220us/step - loss: 60.5714 - mse: 60.5714 - val_loss: 37.0401 - val_mse: 37.0401\n",
      "Epoch 104/150\n",
      "331/331 [==============================] - 0s 202us/step - loss: 60.6196 - mse: 60.6196 - val_loss: 36.9536 - val_mse: 36.9536\n",
      "Epoch 105/150\n",
      "331/331 [==============================] - 0s 196us/step - loss: 60.4893 - mse: 60.4893 - val_loss: 36.6873 - val_mse: 36.6873\n",
      "Epoch 106/150\n",
      "331/331 [==============================] - 0s 232us/step - loss: 60.6189 - mse: 60.6189 - val_loss: 36.8870 - val_mse: 36.8870\n",
      "Epoch 107/150\n",
      "331/331 [==============================] - 0s 220us/step - loss: 60.5565 - mse: 60.5565 - val_loss: 36.8653 - val_mse: 36.8653\n",
      "Epoch 108/150\n",
      "331/331 [==============================] - 0s 223us/step - loss: 60.4618 - mse: 60.4618 - val_loss: 36.6310 - val_mse: 36.6310\n",
      "Epoch 109/150\n",
      "331/331 [==============================] - 0s 220us/step - loss: 60.3932 - mse: 60.3932 - val_loss: 36.8532 - val_mse: 36.8532\n",
      "Epoch 110/150\n",
      "331/331 [==============================] - 0s 205us/step - loss: 60.3222 - mse: 60.3222 - val_loss: 36.9111 - val_mse: 36.9111\n",
      "Epoch 111/150\n",
      "331/331 [==============================] - 0s 196us/step - loss: 60.2351 - mse: 60.2351 - val_loss: 36.6699 - val_mse: 36.6699\n",
      "Epoch 112/150\n",
      "331/331 [==============================] - 0s 202us/step - loss: 60.4056 - mse: 60.4056 - val_loss: 36.6333 - val_mse: 36.6333\n",
      "Epoch 113/150\n",
      "331/331 [==============================] - 0s 199us/step - loss: 60.3996 - mse: 60.3996 - val_loss: 37.6521 - val_mse: 37.6521\n",
      "Epoch 114/150\n",
      "331/331 [==============================] - 0s 208us/step - loss: 60.4326 - mse: 60.4326 - val_loss: 37.3970 - val_mse: 37.3970\n",
      "Epoch 115/150\n",
      "331/331 [==============================] - 0s 214us/step - loss: 60.5745 - mse: 60.5745 - val_loss: 37.2263 - val_mse: 37.2263\n",
      "Epoch 116/150\n"
     ]
    },
    {
     "name": "stdout",
     "output_type": "stream",
     "text": [
      "331/331 [==============================] - 0s 205us/step - loss: 59.9361 - mse: 59.9361 - val_loss: 37.3980 - val_mse: 37.3980\n",
      "Epoch 117/150\n",
      "331/331 [==============================] - 0s 202us/step - loss: 59.9617 - mse: 59.9617 - val_loss: 36.9567 - val_mse: 36.9567\n",
      "Epoch 118/150\n",
      "331/331 [==============================] - 0s 202us/step - loss: 59.9525 - mse: 59.9525 - val_loss: 36.7367 - val_mse: 36.7367\n",
      "Epoch 119/150\n",
      "331/331 [==============================] - 0s 235us/step - loss: 59.9994 - mse: 59.9994 - val_loss: 36.9734 - val_mse: 36.9734\n",
      "Epoch 120/150\n",
      "331/331 [==============================] - 0s 253us/step - loss: 59.8037 - mse: 59.8037 - val_loss: 37.0385 - val_mse: 37.0385\n",
      "Epoch 121/150\n",
      "331/331 [==============================] - 0s 211us/step - loss: 59.8222 - mse: 59.8222 - val_loss: 36.9449 - val_mse: 36.9449\n",
      "Epoch 122/150\n",
      "331/331 [==============================] - 0s 218us/step - loss: 59.8331 - mse: 59.8331 - val_loss: 36.8085 - val_mse: 36.8085\n",
      "Epoch 123/150\n",
      "331/331 [==============================] - 0s 202us/step - loss: 59.9097 - mse: 59.9097 - val_loss: 36.5282 - val_mse: 36.5282\n",
      "Epoch 124/150\n",
      "331/331 [==============================] - 0s 202us/step - loss: 59.7172 - mse: 59.7173 - val_loss: 36.9128 - val_mse: 36.9128\n",
      "Epoch 125/150\n",
      "331/331 [==============================] - 0s 199us/step - loss: 59.7096 - mse: 59.7096 - val_loss: 36.6664 - val_mse: 36.6664\n",
      "Epoch 126/150\n",
      "331/331 [==============================] - 0s 196us/step - loss: 59.9365 - mse: 59.9365 - val_loss: 36.9329 - val_mse: 36.9329\n",
      "Epoch 127/150\n",
      "331/331 [==============================] - 0s 196us/step - loss: 59.5827 - mse: 59.5827 - val_loss: 36.5493 - val_mse: 36.5493\n",
      "Epoch 128/150\n",
      "331/331 [==============================] - 0s 205us/step - loss: 59.6167 - mse: 59.6167 - val_loss: 36.3438 - val_mse: 36.3438\n",
      "Epoch 129/150\n",
      "331/331 [==============================] - 0s 196us/step - loss: 59.5424 - mse: 59.5424 - val_loss: 36.8619 - val_mse: 36.8619\n",
      "Epoch 130/150\n",
      "331/331 [==============================] - 0s 196us/step - loss: 60.3656 - mse: 60.3656 - val_loss: 36.9746 - val_mse: 36.9747\n",
      "Epoch 131/150\n",
      "331/331 [==============================] - 0s 193us/step - loss: 59.4248 - mse: 59.4248 - val_loss: 37.1129 - val_mse: 37.1129\n",
      "Epoch 132/150\n",
      "331/331 [==============================] - 0s 196us/step - loss: 59.4839 - mse: 59.4839 - val_loss: 36.6940 - val_mse: 36.6940\n",
      "Epoch 133/150\n",
      "331/331 [==============================] - 0s 196us/step - loss: 59.5513 - mse: 59.5513 - val_loss: 36.5944 - val_mse: 36.5944\n",
      "Epoch 134/150\n",
      "331/331 [==============================] - 0s 205us/step - loss: 59.5511 - mse: 59.5511 - val_loss: 37.1405 - val_mse: 37.1405\n",
      "Epoch 135/150\n",
      "331/331 [==============================] - 0s 196us/step - loss: 59.3830 - mse: 59.3830 - val_loss: 36.7272 - val_mse: 36.7272\n",
      "Epoch 136/150\n",
      "331/331 [==============================] - 0s 202us/step - loss: 59.3889 - mse: 59.3889 - val_loss: 36.8417 - val_mse: 36.8417\n",
      "Epoch 137/150\n",
      "331/331 [==============================] - 0s 211us/step - loss: 59.9112 - mse: 59.9112 - val_loss: 37.0200 - val_mse: 37.0200\n",
      "Epoch 138/150\n",
      "331/331 [==============================] - 0s 202us/step - loss: 59.2486 - mse: 59.2486 - val_loss: 37.2255 - val_mse: 37.2255\n",
      "Epoch 139/150\n",
      "331/331 [==============================] - 0s 196us/step - loss: 59.3212 - mse: 59.3212 - val_loss: 36.5523 - val_mse: 36.5523\n",
      "Epoch 140/150\n",
      "331/331 [==============================] - 0s 196us/step - loss: 59.1600 - mse: 59.1600 - val_loss: 36.3847 - val_mse: 36.3847\n",
      "Epoch 141/150\n",
      "331/331 [==============================] - 0s 193us/step - loss: 59.1716 - mse: 59.1716 - val_loss: 36.2774 - val_mse: 36.2774\n",
      "Epoch 142/150\n",
      "331/331 [==============================] - 0s 196us/step - loss: 59.1783 - mse: 59.1783 - val_loss: 36.8699 - val_mse: 36.8699\n",
      "Epoch 143/150\n",
      "331/331 [==============================] - 0s 205us/step - loss: 59.2017 - mse: 59.2017 - val_loss: 36.8300 - val_mse: 36.8300\n",
      "Epoch 144/150\n",
      "331/331 [==============================] - 0s 199us/step - loss: 59.9584 - mse: 59.9584 - val_loss: 37.5245 - val_mse: 37.5245\n",
      "Epoch 145/150\n",
      "331/331 [==============================] - 0s 199us/step - loss: 59.1163 - mse: 59.1163 - val_loss: 36.8443 - val_mse: 36.8443\n",
      "Epoch 146/150\n",
      "331/331 [==============================] - 0s 205us/step - loss: 59.4070 - mse: 59.4070 - val_loss: 37.0202 - val_mse: 37.0202\n",
      "Epoch 147/150\n",
      "331/331 [==============================] - 0s 196us/step - loss: 59.2517 - mse: 59.2517 - val_loss: 37.2438 - val_mse: 37.2438\n",
      "Epoch 148/150\n",
      "331/331 [==============================] - 0s 196us/step - loss: 59.0474 - mse: 59.0474 - val_loss: 36.7496 - val_mse: 36.7496\n",
      "Epoch 149/150\n",
      "331/331 [==============================] - 0s 196us/step - loss: 58.9742 - mse: 58.9742 - val_loss: 36.4023 - val_mse: 36.4023\n",
      "Epoch 150/150\n",
      "331/331 [==============================] - 0s 196us/step - loss: 58.9520 - mse: 58.9520 - val_loss: 36.4407 - val_mse: 36.4407\n"
     ]
    }
   ],
   "source": [
    "history = mymod.fit(x_train, y_train, validation_data = (x_test, y_test), epochs = 150, batch_size = 32)"
   ]
  },
  {
   "cell_type": "code",
   "execution_count": 385,
   "metadata": {},
   "outputs": [],
   "source": [
    "y_hat = mymod.predict(x_test)"
   ]
  },
  {
   "cell_type": "code",
   "execution_count": 386,
   "metadata": {},
   "outputs": [
    {
     "data": {
      "text/plain": [
       "36.44066378896703"
      ]
     },
     "execution_count": 386,
     "metadata": {},
     "output_type": "execute_result"
    }
   ],
   "source": [
    "mean_squared_error(y_hat, y_test) #checking the error."
   ]
  },
  {
   "cell_type": "code",
   "execution_count": null,
   "metadata": {},
   "outputs": [],
   "source": [
    "#visualizing the results."
   ]
  },
  {
   "cell_type": "code",
   "execution_count": 387,
   "metadata": {},
   "outputs": [
    {
     "data": {
      "text/plain": [
       "[<matplotlib.lines.Line2D at 0x1701a0cf948>]"
      ]
     },
     "execution_count": 387,
     "metadata": {},
     "output_type": "execute_result"
    },
    {
     "data": {
      "image/png": "[encoded data removed]",
      "text/plain": [
       "<Figure size 432x288 with 1 Axes>"
      ]
     },
     "metadata": {
      "needs_background": "light"
     },
     "output_type": "display_data"
    }
   ],
   "source": [
    "plt.plot(history.history['loss']) #error decereased linearly"
   ]
  },
  {
   "cell_type": "code",
   "execution_count": 406,
   "metadata": {},
   "outputs": [
    {
     "data": {
      "text/plain": [
       "<matplotlib.collections.PathCollection at 0x1701c87c848>"
      ]
     },
     "execution_count": 406,
     "metadata": {},
     "output_type": "execute_result"
    },
    {
     "data": {
      "image/png": "[encoded data removed]",
      "text/plain": [
       "<Figure size 432x288 with 1 Axes>"
      ]
     },
     "metadata": {
      "needs_background": "light"
     },
     "output_type": "display_data"
    }
   ],
   "source": [
    "plt.scatter(y_test, y_hat)"
   ]
  }
 ],
 "metadata": {
  "kernelspec": {
   "display_name": "Python 3",
   "language": "python",
   "name": "python3"
  },
  "language_info": {
   "codemirror_mode": {
    "name": "ipython",
    "version": 3
   },
   "file_extension": ".py",
   "mimetype": "text/x-python",
   "name": "python",
   "nbconvert_exporter": "python",
   "pygments_lexer": "ipython3",
   "version": "3.7.6"
  }
 },
 "nbformat": 4,
 "nbformat_minor": 4
}
