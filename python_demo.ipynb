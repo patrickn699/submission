{
  "nbformat": 4,
  "nbformat_minor": 0,
  "metadata": {
    "colab": {
      "name": "python demo.ipynb",
      "provenance": [],
      "authorship_tag": "ABX9TyNQrL504gs7mgomBsb77STw",
      "include_colab_link": true
    },
    "kernelspec": {
      "name": "python3",
      "display_name": "Python 3"
    },
    "language_info": {
      "name": "python"
    }
  },
  "cells": [
    {
      "cell_type": "markdown",
      "metadata": {
        "id": "view-in-github",
        "colab_type": "text"
      },
      "source": [
        "<a href=\"https://colab.research.google.com/github/patrickn699/submission/blob/master/python_demo.ipynb\" target=\"_parent\"><img src=\"https://colab.research.google.com/assets/colab-badge.svg\" alt=\"Open In Colab\"/></a>"
      ]
    },
    {
      "cell_type": "code",
      "metadata": {
        "colab": {
          "base_uri": "https://localhost:8080/"
        },
        "id": "Iry8_TpVb3Vv",
        "outputId": "800f830c-791f-4f27-e5f5-abfa2d5459c0"
      },
      "source": [
        "abc = 10\n",
        "b = 34.4\n",
        "c = 'hello'\n",
        "d = True\n",
        "ABC = 10\n",
        "print(id(a))\n",
        "print(id(ABC))"
      ],
      "execution_count": 26,
      "outputs": [
        {
          "output_type": "stream",
          "text": [
            "94190085884704\n",
            "94190085884704\n"
          ],
          "name": "stdout"
        }
      ]
    },
    {
      "cell_type": "markdown",
      "metadata": {
        "id": "qIrkO1uAb9kB"
      },
      "source": [
        "# New Section"
      ]
    }
  ]
}