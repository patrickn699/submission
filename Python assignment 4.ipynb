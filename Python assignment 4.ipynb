{
 "cells": [
  {
   "cell_type": "markdown",
   "metadata": {},
   "source": [
    "1.1 Write a Python Program(with class concepts) to find the area of the triangle using the below formula. \n",
    "area = (s*(s-a)*(s-b)*(s-c)) ** 0.5 \n"
   ]
  },
  {
   "cell_type": "code",
   "execution_count": 22,
   "metadata": {},
   "outputs": [],
   "source": [
    "class area:\n",
    "    \n",
    "    def inputt(self):\n",
    "        a = int(input(\"enter first side:\"))\n",
    "        b = int(input(\"enter second side:\"))\n",
    "        c = int(input(\"enter thrid side:\"))\n",
    "\n",
    "        s = (a+b+c)//2\n",
    "        \n",
    "        \n",
    "class triangle(area):\n",
    "    \n",
    "     def calculate(self):\n",
    "            \n",
    "        area = (s*(s-a)*(s-b)*(s-c))**0.5\n",
    "        print(\"area of triangle is:\",area)\n",
    "    "
   ]
  },
  {
   "cell_type": "code",
   "execution_count": 23,
   "metadata": {},
   "outputs": [
    {
     "name": "stdout",
     "output_type": "stream",
     "text": [
      "enter first side:5\n",
      "enter second side:4\n",
      "enter thrid side:4\n",
      "area of triangle is: 4.898979485566356\n"
     ]
    }
   ],
   "source": [
    "tr = triangle()\n",
    "tr.inputt()\n",
    "tr.calculate()"
   ]
  },
  {
   "cell_type": "markdown",
   "metadata": {},
   "source": [
    "1.2 Write a function filter_long_words() that takes a list of words and an integer n and returns the list of words that are longer than n. "
   ]
  },
  {
   "cell_type": "code",
   "execution_count": 4,
   "metadata": {},
   "outputs": [],
   "source": [
    "def filter_long_words(lis,n):\n",
    "    for i in lis:\n",
    "        if len(i)>n:\n",
    "            print(i)\n",
    "    \n"
   ]
  },
  {
   "cell_type": "code",
   "execution_count": 2,
   "metadata": {},
   "outputs": [
    {
     "name": "stdout",
     "output_type": "stream",
     "text": [
      "enter words enter 'exit' to come out:hi\n",
      "enter words enter 'exit' to come out:hello \n",
      "enter words enter 'exit' to come out:how\n",
      "enter words enter 'exit' to come out:exit\n",
      "enter the value of n:2\n"
     ]
    }
   ],
   "source": [
    "lis = []\n",
    "n = 0\n",
    "n1 = 'go'\n",
    "while(n1!=\"exit\"):\n",
    "    wor = input(\"enter words enter 'exit' to come out:\")\n",
    "    if wor != 'exit':\n",
    "        lis.append(wor)\n",
    "    else:\n",
    "        n1 = 'exit'\n",
    "n = int(input(\"enter the value of n:\"))"
   ]
  },
  {
   "cell_type": "code",
   "execution_count": 5,
   "metadata": {},
   "outputs": [
    {
     "name": "stdout",
     "output_type": "stream",
     "text": [
      "hello \n",
      "how\n"
     ]
    }
   ],
   "source": [
    "filter_long_words(lis,n)"
   ]
  },
  {
   "cell_type": "markdown",
   "metadata": {},
   "source": [
    "2.1 Write a Python program using function concept that maps list of words into a list of integers representing the lengths of the corresponding words. \n",
    "Hint: If a list [ ab,cde,erty] is passed on to the python function output should come as [2,3,4] \n",
    "Here 2,3 and 4 are the lengths of the words in the list. "
   ]
  },
  {
   "cell_type": "code",
   "execution_count": 7,
   "metadata": {},
   "outputs": [],
   "source": [
    "def mapp(lis):\n",
    "    let = []\n",
    "    for i in lis:\n",
    "        let.append(len(i))\n",
    "    print(let)"
   ]
  },
  {
   "cell_type": "code",
   "execution_count": 14,
   "metadata": {},
   "outputs": [
    {
     "name": "stdout",
     "output_type": "stream",
     "text": [
      "enter multiple words:hello hi\n",
      "[5, 2]\n",
      "[None]\n"
     ]
    }
   ],
   "source": [
    "wrd = [input(\"enter multiple words:\").split()]\n",
    "op = map(mapp,wrd)\n",
    "print(list(op))"
   ]
  },
  {
   "cell_type": "markdown",
   "metadata": {},
   "source": [
    "2.2 Write a Python function which takes a character (i.e. a string of length 1) and returns True if it is a vowel, False otherwise. \n"
   ]
  },
  {
   "cell_type": "code",
   "execution_count": 19,
   "metadata": {},
   "outputs": [],
   "source": [
    "def isvowel(lis):\n",
    "    a = None\n",
    "    vow = ['a','e','i','o','u']   \n",
    "    if lis in vow:\n",
    "        a = True \n",
    "    else:\n",
    "        a = False\n",
    "    print(a)"
   ]
  },
  {
   "cell_type": "code",
   "execution_count": 20,
   "metadata": {},
   "outputs": [
    {
     "name": "stdout",
     "output_type": "stream",
     "text": [
      "Enter a character:i\n",
      "True\n"
     ]
    }
   ],
   "source": [
    "inn = input(\"Enter a character:\")\n",
    "if len(inn)>1:\n",
    "    print('only enter charchter')\n",
    "else:\n",
    "    isvowel(inn)"
   ]
  },
  {
   "cell_type": "code",
   "execution_count": null,
   "metadata": {},
   "outputs": [],
   "source": []
  }
 ],
 "metadata": {
  "kernelspec": {
   "display_name": "Python 3",
   "language": "python",
   "name": "python3"
  },
  "language_info": {
   "codemirror_mode": {
    "name": "ipython",
    "version": 3
   },
   "file_extension": ".py",
   "mimetype": "text/x-python",
   "name": "python",
   "nbconvert_exporter": "python",
   "pygments_lexer": "ipython3",
   "version": "3.7.6"
  }
 },
 "nbformat": 4,
 "nbformat_minor": 4
}
